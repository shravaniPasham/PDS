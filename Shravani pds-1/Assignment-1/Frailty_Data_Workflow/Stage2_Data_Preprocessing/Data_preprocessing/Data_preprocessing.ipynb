{
  "nbformat": 4,
  "nbformat_minor": 0,
  "metadata": {
    "colab": {
      "provenance": []
    },
    "kernelspec": {
      "name": "python3",
      "display_name": "Python 3"
    },
    "language_info": {
      "name": "python"
    }
  },
  "cells": [
    {
      "cell_type": "code",
      "execution_count": 1,
      "metadata": {
        "id": "UQq1iqex-HdP"
      },
      "outputs": [],
      "source": [
        "# data_preprocessing.ipynb\n",
        "import pandas as pd\n"
      ]
    },
    {
      "cell_type": "code",
      "source": [
        "# Load the raw data\n",
        "raw_data = pd.read_csv(\"/content/raw_data.csv\")\n",
        "\n",
        "# Data cleaning and preprocessing\n",
        "# For example, remove duplicates\n",
        "cleaned_data = raw_data.dropna()\n",
        "\n"
      ],
      "metadata": {
        "id": "0IUXRpsx-mSW"
      },
      "execution_count": 4,
      "outputs": []
    },
    {
      "cell_type": "code",
      "source": [
        "#convert grip strength from kilograms to pounds\n",
        "cleaned_data['grip_strength_kilograms'] = cleaned_data['Grip strength'] * 2.20462"
      ],
      "metadata": {
        "id": "COdhtZrh_i3l"
      },
      "execution_count": 5,
      "outputs": []
    },
    {
      "cell_type": "code",
      "source": [
        "# Save the cleaned data\n",
        "cleaned_data.to_csv(\"cleaned_data.csv\", index=False)"
      ],
      "metadata": {
        "id": "LU7oz7v-ANQl"
      },
      "execution_count": 6,
      "outputs": []
    }
  ]
}