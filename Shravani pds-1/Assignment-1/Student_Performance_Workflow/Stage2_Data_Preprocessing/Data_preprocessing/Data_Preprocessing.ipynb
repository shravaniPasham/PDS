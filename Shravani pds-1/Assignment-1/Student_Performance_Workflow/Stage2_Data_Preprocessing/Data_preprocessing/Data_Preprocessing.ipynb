{
  "nbformat": 4,
  "nbformat_minor": 0,
  "metadata": {
    "colab": {
      "provenance": []
    },
    "kernelspec": {
      "name": "python3",
      "display_name": "Python 3"
    },
    "language_info": {
      "name": "python"
    }
  },
  "cells": [
    {
      "cell_type": "code",
      "execution_count": 11,
      "metadata": {
        "id": "YEzvfsE-Tq9_"
      },
      "outputs": [],
      "source": [
        "#importing the libraries\n",
        "import pandas as pd"
      ]
    },
    {
      "cell_type": "code",
      "source": [
        "#Loading the raw data\n",
        "raw_data = pd.read_csv(\"/content/raw_student_data.csv\")"
      ],
      "metadata": {
        "id": "xQ-rxtiJWy_J"
      },
      "execution_count": 12,
      "outputs": []
    },
    {
      "cell_type": "code",
      "source": [
        "#Removing duplicates\n",
        "cleaned_data = raw_data.drop_duplicates()"
      ],
      "metadata": {
        "id": "UvkK5t85XrBK"
      },
      "execution_count": 13,
      "outputs": []
    },
    {
      "cell_type": "code",
      "source": [
        "#Removing race/ethinicity of each student\n",
        "cleaned_data = cleaned_data.drop(['race/ethnicity'], axis=1)"
      ],
      "metadata": {
        "id": "HoOO9XnRZAIu"
      },
      "execution_count": 14,
      "outputs": []
    },
    {
      "cell_type": "code",
      "source": [
        "#Save the cleaned data\n",
        "cleaned_data.to_csv(\"cleaned_data.csv\", index=False)"
      ],
      "metadata": {
        "id": "YQiK7M6YZWkF"
      },
      "execution_count": 15,
      "outputs": []
    }
  ]
}